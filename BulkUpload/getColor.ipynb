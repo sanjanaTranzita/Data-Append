{
 "cells": [
  {
   "cell_type": "code",
   "execution_count": 12,
   "metadata": {},
   "outputs": [
    {
     "name": "stdout",
     "output_type": "stream",
     "text": [
      "Background removed! Check remove_background/image_no_background.png\n",
      "Dominant color (excluding background): #d1974e\n",
      "Name: Raw Sienna\n"
     ]
    }
   ],
   "source": [
    "from rembg import remove\n",
    "import requests\n",
    "from PIL import Image\n",
    "import requests\n",
    "def download_image(url, output_path):\n",
    "    response = requests.get(url)\n",
    "    if response.status_code == 200:\n",
    "        with open(output_path, 'wb') as f:\n",
    "            f.write(response.content)\n",
    "    else:\n",
    "        print(f\"Error downloading image: {response.status_code}\")\n",
    "def remove_background(image_path, output_path):\n",
    "    with open(image_path, 'rb') as f:\n",
    "        image_data = f.read()\n",
    "    output = remove(image_data)\n",
    "    with open(output_path, 'wb') as f:\n",
    "        f.write(output)\n",
    "\n",
    "image_url =  'https://assets.myntassets.com/h_1440,q_90,w_1080/v1/assets/images/26518542/2023/12/19/13791755-47a4-4a98-bd52-caadee3d31721702991163632APCOYellowGreenPureCottonHandloomSaree1.jpg'\n",
    "download_path = \"downloaded_image/downloaded_image.jpg\"\n",
    "output_path = \"remove_background/image_no_background.png\"\n",
    "\n",
    "download_image(image_url, download_path)\n",
    "remove_background(download_path, output_path)\n",
    "\n",
    "print(\"Background removed! Check\", output_path)\n",
    "def get_dominant_color(image_path, tolerance=10):\n",
    "\n",
    "  img = Image.open(image_path).convert('RGBA')\n",
    "  width, height = img.size\n",
    "\n",
    "  # Create a dictionary to store pixel frequencies\n",
    "  color_counts = {}\n",
    "  background_color = img.getpixel((0, 0))\n",
    "\n",
    "  # Iterate through each pixel\n",
    "  for x in range(width):\n",
    "    for y in range(height):\n",
    "      pixel = img.getpixel((x, y))\n",
    "\n",
    "      # Check if pixel is transparent (background)\n",
    "      if pixel[3] <= tolerance:\n",
    "        continue\n",
    "\n",
    "      # Check for color similarity to background (within tolerance)\n",
    "      if abs(pixel[0] - background_color[0]) <= tolerance and \\\n",
    "         abs(pixel[1] - background_color[1]) <= tolerance and \\\n",
    "         abs(pixel[2] - background_color[2]) <= tolerance:\n",
    "        continue\n",
    "\n",
    "      # Increment count for this color\n",
    "      if pixel in color_counts:\n",
    "        color_counts[pixel] += 1\n",
    "      else:\n",
    "        color_counts[pixel] = 1\n",
    "\n",
    "  # Find the most frequent color (excluding background)\n",
    "  dominant_color = max(color_counts, key=color_counts.get)\n",
    "\n",
    "  # Convert RGB to hex code\n",
    "  return f\"#{dominant_color[0]:02x}{dominant_color[1]:02x}{dominant_color[2]:02x}\"\n",
    "\n",
    "# Example usage\n",
    "image_path = \"remove_background/image_no_background.png\"\n",
    "dominant_color_hex = get_dominant_color(image_path)\n",
    "print(f\"Dominant color (excluding background): {dominant_color_hex}\")\n",
    "\n",
    "color_code = dominant_color_hex[1:]\n",
    "\n",
    "response = requests.get(f\"https://www.thecolorapi.com/id?hex={color_code}&format=json\")\n",
    "data = response.json()\n",
    "\n",
    "print(f\"Name: {data['name']['value']}\")"
   ]
  }
 ],
 "metadata": {
  "kernelspec": {
   "display_name": "Python 3",
   "language": "python",
   "name": "python3"
  },
  "language_info": {
   "codemirror_mode": {
    "name": "ipython",
    "version": 3
   },
   "file_extension": ".py",
   "mimetype": "text/x-python",
   "name": "python",
   "nbconvert_exporter": "python",
   "pygments_lexer": "ipython3",
   "version": "3.10.12"
  }
 },
 "nbformat": 4,
 "nbformat_minor": 2
}
